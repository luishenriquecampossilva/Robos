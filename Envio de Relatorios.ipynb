{
 "cells": [
  {
   "cell_type": "code",
   "execution_count": 13,
   "id": "f9c79853",
   "metadata": {},
   "outputs": [],
   "source": [
    "# Passo 1: Entrar no sistema da empresa (no link do drive)\n",
    "# Passo 2: Navegar até o Local do relatorio (Entrar na pasta Exportar)\n",
    "# Passo 3: Exportar o relatório (fazer o download)\n",
    "# Passo 4: Calcular os indicadores (Faturamento  e quantidade de produtos)\n",
    "# Passo 5: Enviar um e-mail para a diretorio"
   ]
  },
  {
   "cell_type": "code",
   "execution_count": 14,
   "id": "65b7ab3b",
   "metadata": {},
   "outputs": [
    {
     "name": "stdout",
     "output_type": "stream",
     "text": [
      "Requirement already satisfied: pyautogui in c:\\users\\luisc\\anaconda3\\lib\\site-packages (0.9.53)\n",
      "Requirement already satisfied: PyTweening>=1.0.1 in c:\\users\\luisc\\anaconda3\\lib\\site-packages (from pyautogui) (1.0.4)\n",
      "Requirement already satisfied: pygetwindow>=0.0.5 in c:\\users\\luisc\\anaconda3\\lib\\site-packages (from pyautogui) (0.0.9)\n",
      "Requirement already satisfied: pymsgbox in c:\\users\\luisc\\anaconda3\\lib\\site-packages (from pyautogui) (1.0.9)\n",
      "Requirement already satisfied: mouseinfo in c:\\users\\luisc\\anaconda3\\lib\\site-packages (from pyautogui) (0.1.3)\n",
      "Requirement already satisfied: pyscreeze>=0.1.21 in c:\\users\\luisc\\anaconda3\\lib\\site-packages (from pyautogui) (0.1.28)\n",
      "Requirement already satisfied: pyrect in c:\\users\\luisc\\anaconda3\\lib\\site-packages (from pygetwindow>=0.0.5->pyautogui) (0.2.0)\n",
      "Requirement already satisfied: pyperclip in c:\\users\\luisc\\anaconda3\\lib\\site-packages (from mouseinfo->pyautogui) (1.8.2)\n"
     ]
    }
   ],
   "source": [
    "!pip install pyautogui"
   ]
  },
  {
   "cell_type": "code",
   "execution_count": 15,
   "id": "1cccd142",
   "metadata": {},
   "outputs": [],
   "source": [
    "import pyautogui\n",
    "import pyperclip\n",
    "import time\n",
    "# pyautogui.click - clica\n",
    "# pyautogui.write - escreve\n",
    "# pyautogui.press - pressiona\n",
    "# pyautogui.hotkey - atalho\n",
    "\n",
    "pyautogui.PAUSE = 1\n",
    "pyautogui.hotkey(\"ctrl\",\"t\")\n",
    "pyperclip.copy(\"https://drive.google.com/drive/folders/149xknr9JvrlEnhNWO49zPcw0PW5icxga\")\n",
    "pyautogui.hotkey(\"ctrl\",\"v\")\n",
    "pyautogui.press(\"enter\")\n",
    "time.sleep(5)\n",
    "pyautogui.click(x=380, y=279,clicks = 2)\n",
    "time.sleep(4)\n",
    "pyautogui.click(x=398, y=297)\n",
    "pyautogui.click(x=1160, y=155)\n",
    "pyautogui.click(x=931, y=562)\n",
    "time.sleep(5)"
   ]
  },
  {
   "cell_type": "code",
   "execution_count": 16,
   "id": "2f987d87",
   "metadata": {},
   "outputs": [],
   "source": [
    "import pandas\n",
    "tabela = pandas.read_excel(r\"C:\\Users\\luisc\\Downloads\\Vendas - Dez.xlsx\")\n",
    "\n",
    "faturamento = tabela[\"Valor Final\"].sum()\n",
    "quantidade = tabela[\"Quantidade\"].sum()\n",
    "\n"
   ]
  },
  {
   "cell_type": "code",
   "execution_count": 17,
   "id": "bb31a8a3",
   "metadata": {},
   "outputs": [],
   "source": [
    "pyautogui.hotkey(\"ctrl\",\"t\")\n",
    "pyperclip.copy(\"https://mail.google.com/mail/u/0/?hl=pt-BR#inbox\")\n",
    "pyautogui.hotkey(\"ctrl\",\"v\")\n",
    "pyautogui.press(\"enter\")\n",
    "time.sleep(4)\n",
    "pyautogui.click(x=105, y=168)\n",
    "pyautogui.write(\"luiscampossilva1996@gmail.com\")\n",
    "pyautogui.press(\"tab\")\n",
    "time.sleep(2)\n",
    "pyautogui.press(\"tab\")\n",
    "pyautogui.write(\"Relatorio de Vendas\")\n",
    "pyautogui.press(\"tab\")\n",
    "\n",
    "\n",
    "texto = f\"\"\"\n",
    "Prezados, bom dia\n",
    "O faturamento de ontem foi:{faturamento:,.2f}\n",
    "A quantidade de produtos foi de:{quantidade:,}\n",
    "\n",
    "Abs\n",
    "LiraPython\n",
    "\"\"\"\n",
    "pyperclip.copy(texto)\n",
    "pyautogui.hotkey(\"ctrl\",\"v\")\n",
    "pyautogui.hotkey(\"ctrl\",\"enter\")\n"
   ]
  },
  {
   "cell_type": "code",
   "execution_count": 18,
   "id": "88eb2315",
   "metadata": {},
   "outputs": [
    {
     "data": {
      "text/plain": [
       "Point(x=105, y=168)"
      ]
     },
     "execution_count": 18,
     "metadata": {},
     "output_type": "execute_result"
    }
   ],
   "source": [
    "import time\n",
    "time.sleep(5)\n",
    "pyautogui.position()"
   ]
  },
  {
   "cell_type": "code",
   "execution_count": null,
   "id": "30f7adb8",
   "metadata": {},
   "outputs": [],
   "source": []
  },
  {
   "cell_type": "code",
   "execution_count": null,
   "id": "aa958a28",
   "metadata": {},
   "outputs": [],
   "source": []
  },
  {
   "cell_type": "code",
   "execution_count": null,
   "id": "1633825b",
   "metadata": {},
   "outputs": [],
   "source": []
  }
 ],
 "metadata": {
  "kernelspec": {
   "display_name": "Python 3 (ipykernel)",
   "language": "python",
   "name": "python3"
  },
  "language_info": {
   "codemirror_mode": {
    "name": "ipython",
    "version": 3
   },
   "file_extension": ".py",
   "mimetype": "text/x-python",
   "name": "python",
   "nbconvert_exporter": "python",
   "pygments_lexer": "ipython3",
   "version": "3.9.13"
  }
 },
 "nbformat": 4,
 "nbformat_minor": 5
}
