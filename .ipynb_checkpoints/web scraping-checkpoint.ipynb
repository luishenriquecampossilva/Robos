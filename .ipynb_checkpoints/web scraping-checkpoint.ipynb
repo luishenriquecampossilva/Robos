{
 "cells": [
  {
   "cell_type": "code",
   "execution_count": 112,
   "id": "bd9fb57e",
   "metadata": {},
   "outputs": [],
   "source": [
    "from selenium import webdriver\n",
    "from selenium.webdriver.common.keys import Keys"
   ]
  },
  {
   "cell_type": "code",
   "execution_count": 113,
   "id": "b0108954",
   "metadata": {},
   "outputs": [],
   "source": [
    "navegador = webdriver.Chrome()\n",
    "navegador.get(\"https://www.google.com.br/\")"
   ]
  },
  {
   "cell_type": "code",
   "execution_count": 114,
   "id": "67725656",
   "metadata": {},
   "outputs": [],
   "source": [
    "navegador.find_element('xpath',\n",
    "                      '/html/body/div[1]/div[3]/form/div[1]/div[1]/div[1]/div/div[2]/input').send_keys(\"Cotação Dólar\")"
   ]
  },
  {
   "cell_type": "code",
   "execution_count": 115,
   "id": "967f16d5",
   "metadata": {},
   "outputs": [],
   "source": [
    "navegador.find_element('xpath','/html/body/div[1]/div[3]/form/div[1]/div[1]/div[1]/div/div[2]/input').send_keys(Keys.ENTER)"
   ]
  },
  {
   "cell_type": "code",
   "execution_count": 116,
   "id": "59d8d93b",
   "metadata": {},
   "outputs": [],
   "source": [
    "cotacao_dolar = navegador.find_element('xpath',\n",
    "                       '//*[@id=\"knowledge-currency__updatable-data-column\"]/div[1]/div[2]/span[1]').get_attribute('data-value')"
   ]
  },
  {
   "cell_type": "code",
   "execution_count": 117,
   "id": "662af16e",
   "metadata": {},
   "outputs": [],
   "source": [
    "navegador.get(\"https://www.google.com.br/\")"
   ]
  },
  {
   "cell_type": "code",
   "execution_count": 118,
   "id": "03750168",
   "metadata": {},
   "outputs": [],
   "source": [
    "navegador.find_element('xpath','/html/body/div[1]/div[3]/form/div[1]/div[1]/div[1]/div/div[2]/input').send_keys(\"Cotação Euro\")"
   ]
  },
  {
   "cell_type": "code",
   "execution_count": 119,
   "id": "11891353",
   "metadata": {},
   "outputs": [],
   "source": [
    "navegador.find_element('xpath','/html/body/div[1]/div[3]/form/div[1]/div[1]/div[1]/div/div[2]/input').send_keys(Keys.ENTER)"
   ]
  },
  {
   "cell_type": "code",
   "execution_count": 120,
   "id": "f990979c",
   "metadata": {},
   "outputs": [],
   "source": [
    "cotacao_euro = navegador.find_element('xpath','//*[@id=\"knowledge-currency__updatable-data-column\"]/div[1]/div[2]/span[1]').get_attribute('data-value')"
   ]
  },
  {
   "cell_type": "code",
   "execution_count": 121,
   "id": "a2e3a527",
   "metadata": {},
   "outputs": [],
   "source": [
    "navegador.get(\"https://www.melhorcambio.com/ouro-hoje\")"
   ]
  },
  {
   "cell_type": "code",
   "execution_count": 122,
   "id": "94f1e5ae",
   "metadata": {},
   "outputs": [
    {
     "name": "stdout",
     "output_type": "stream",
     "text": [
      "315.12\n"
     ]
    }
   ],
   "source": [
    "cotacao_ouro = navegador.find_element('xpath','//*[@id=\"comercial\"]').get_attribute('value')\n",
    "cotacao_ouro = float(cotacao_ouro.replace(',','.'))\n",
    "print(cotacao_ouro)"
   ]
  },
  {
   "cell_type": "code",
   "execution_count": 134,
   "id": "4b8714bb",
   "metadata": {},
   "outputs": [
    {
     "name": "stdout",
     "output_type": "stream",
     "text": [
      "         Produtos  Preço Original  Moeda      Cotação  Preço de Compra  \\\n",
      "0    Câmera Canon          999.99  Dólar       5.0961          4999.95   \n",
      "1   Carro Renault         4500.00   Euro  5.527484865         27000.00   \n",
      "2   Notebook Dell          899.99  Dólar       5.0961          4499.95   \n",
      "3          IPhone          799.00  Dólar       5.0961          3995.00   \n",
      "4      Carro Fiat         3000.00   Euro  5.527484865         18000.00   \n",
      "5  Celular Xiaomi          480.48  Dólar       5.0961          2402.40   \n",
      "6        Joia 20g           20.00   Ouro       315.12          7000.00   \n",
      "\n",
      "   Margem  Preço de Venda  \n",
      "0    1.40        6999.930  \n",
      "1    2.00       54000.000  \n",
      "2    1.70        7649.915  \n",
      "3    1.70        6791.500  \n",
      "4    1.90       34200.000  \n",
      "5    2.00        4804.800  \n",
      "6    1.15        8050.000  \n"
     ]
    }
   ],
   "source": [
    "import pandas as pd\n",
    "tabela = pd.read_excel(\"Produtos.xlsx\")\n",
    "tabela.loc[tabela[\"Moeda\"]==\"Dólar\",\"Cotação\"] = cotacao_dolar\n",
    "tabela.loc[tabela[\"Moeda\"] == \"Euro\",\"Cotação\"] = cotacao_euro\n",
    "tabela.loc[tabela[\"Moeda\"] == \"Ouro\", \"Cotação\"] = cotacao_ouro\n",
    "\n",
    "#tabela[\"Preço de Compra\"] = tabela[\"Cotação\"] * tabela[\"Preço Original\"]\n",
    "tabela[\"Preço de Venda\"] = tabela[\"Preço de Compra\"]*tabela[\"Margem\"]\n",
    "print(tabela)"
   ]
  },
  {
   "cell_type": "code",
   "execution_count": null,
   "id": "01d946f0",
   "metadata": {},
   "outputs": [],
   "source": []
  },
  {
   "cell_type": "code",
   "execution_count": null,
   "id": "d280dcd3",
   "metadata": {},
   "outputs": [],
   "source": []
  }
 ],
 "metadata": {
  "kernelspec": {
   "display_name": "Python 3 (ipykernel)",
   "language": "python",
   "name": "python3"
  },
  "language_info": {
   "codemirror_mode": {
    "name": "ipython",
    "version": 3
   },
   "file_extension": ".py",
   "mimetype": "text/x-python",
   "name": "python",
   "nbconvert_exporter": "python",
   "pygments_lexer": "ipython3",
   "version": "3.9.13"
  }
 },
 "nbformat": 4,
 "nbformat_minor": 5
}
